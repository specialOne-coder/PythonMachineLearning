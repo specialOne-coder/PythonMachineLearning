{
 "cells": [
  {
   "cell_type": "markdown",
   "metadata": {},
   "source": [
    "Tp sur les Jeux de Données avec Python\n",
    "* Les utilisateurs"
   ]
  },
  {
   "cell_type": "code",
   "execution_count": 1,
   "metadata": {},
   "outputs": [],
   "source": [
    "users = [\n",
    "{ \"id\":0,\"name\":\"Hero\"},\n",
    "{ \"id\":1,\"name\":\"Dunn\" },\n",
    "{ \"id\":2,\"name\":\"Sue\" },\n",
    "{ \"id\":3,\"name\":\"Chi\" },\n",
    "{ \"id\":4,\"name\":\"Thor\" },\n",
    "{ \"id\":5,\"name\":\"Clive\" },\n",
    "{ \"id\":6,\"name\":\"Hicks\" },\n",
    "{ \"id\":7,\"name\":\"Devin\" },\n",
    "{ \"id\":8,\"name\":\"Kate\" },\n",
    "{ \"id\":9,\"name\":\"Klein\" }\n",
    " ]"
   ]
  },
  {
   "cell_type": "code",
   "execution_count": null,
   "metadata": {},
   "outputs": [],
   "source": []
  },
  {
   "cell_type": "markdown",
   "metadata": {},
   "source": [
    "* Les relations entre utilisateurs"
   ]
  },
  {
   "cell_type": "code",
   "execution_count": 2,
   "metadata": {},
   "outputs": [],
   "source": [
    "friendships = [(0, 1), (0, 2), (1, 2), (1, 3), (2, 3), (3, 4),\n",
    "(4, 5), (5, 6), (5, 7), (6, 8), (7, 8), (8, 9)]"
   ]
  },
  {
   "cell_type": "markdown",
   "metadata": {},
   "source": [
    "1 - Ajout de la liste d’amis à chaque utilisateur."
   ]
  },
  {
   "cell_type": "code",
   "execution_count": 3,
   "metadata": {},
   "outputs": [],
   "source": [
    "for user in users:\n",
    "    user[\"amis\"] = []\n",
    "for a, b in friendships:\n",
    "    users[a][\"amis\"].append(users[b]) # ajout de b comme ami de a\n",
    "    users[b][\"amis\"].append(users[a]) # ajout de a comme ami de b"
   ]
  },
  {
   "cell_type": "code",
   "execution_count": null,
   "metadata": {},
   "outputs": [],
   "source": []
  },
  {
   "cell_type": "markdown",
   "metadata": {},
   "source": [
    "2 - Le nombre moyen de connexions"
   ]
  },
  {
   "cell_type": "code",
   "execution_count": 5,
   "metadata": {},
   "outputs": [],
   "source": [
    "def nombre_amis(user):\n",
    "    return len(user[\"amis\"]) # Nombre total d'amis\n",
    "total_connections = sum(nombre_amis(user)for user in users) #Nombre total de connections"
   ]
  },
  {
   "cell_type": "code",
   "execution_count": 6,
   "metadata": {},
   "outputs": [
    {
     "name": "stdout",
     "output_type": "stream",
     "text": [
      "2.4\n"
     ]
    }
   ],
   "source": [
    "from __future__ import division # Importation de la division\n",
    "nbre_users = len(users) # longueur de la liste des utilisateurs\n",
    "moyenne_de_connection = total_connections / nbre_users # 2.4\n",
    "print(moyenne_de_connection)"
   ]
  },
  {
   "cell_type": "markdown",
   "metadata": {},
   "source": [
    "3 - Les utilisateurs les plus connectés"
   ]
  },
  {
   "cell_type": "code",
   "execution_count": 7,
   "metadata": {},
   "outputs": [
    {
     "data": {
      "text/plain": [
       "[(9, 1),\n",
       " (8, 3),\n",
       " (7, 2),\n",
       " (6, 2),\n",
       " (5, 3),\n",
       " (4, 2),\n",
       " (3, 3),\n",
       " (2, 3),\n",
       " (1, 3),\n",
       " (0, 2)]"
      ]
     },
     "execution_count": 7,
     "metadata": {},
     "output_type": "execute_result"
    }
   ],
   "source": [
    "# liste (user_id, number_of_friends)\n",
    "nbre_amis_par_id = [(user[\"id\"], nombre_amis(user))\n",
    "for user in users]\n",
    "# suivant les utilisateurs et leurs amis,\n",
    "# Ceux ayant le plus d'amis sont forcément les plus connectés\n",
    "sorted(nbre_amis_par_id,reverse=True)  \n"
   ]
  },
  {
   "cell_type": "code",
   "execution_count": 20,
   "metadata": {},
   "outputs": [],
   "source": [
    "interests = [\n",
    "(0, \"Hadoop\"), (0, \"Big Data\"), (0, \"HBase\"), (0, \"Java\"),\n",
    "(0, \"Spark\"), (0, \"Storm\"), (0, \"Cassandra\"),\n",
    "(1, \"NoSQL\"), (1, \"MongoDB\"), (1, \"Cassandra\"), (1, \"HBase\"),\n",
    "(1, \"Postgres\"), (2, \"Python\"), (2, \"scikit-learn\"), (2, \"scipy\"),\n",
    "(2, \"numpy\"), (2, \"statsmodels\"), (2, \"pandas\"), (3, \"R\"), (3, \"Python\"),\n",
    "(3, \"statistics\"), (3, \"regression\"), (3, \"probability\"),\n",
    "(4, \"machine learning\"), (4, \"regression\"), (4, \"decision trees\"),\n",
    "(4, \"libsvm\"), (5, \"Python\"), (5, \"R\"), (5, \"Java\"), (5, \"C++\"),\n",
    "(5, \"Haskell\"), (5, \"programming languages\"), (6, \"statistics\"),\n",
    "(6, \"probability\"), (6, \"mathematics\"), (6, \"theory\"),\n",
    "(7, \"machine learning\"), (7, \"scikit-learn\"), (7, \"Mahout\"),\n",
    "(7, \"neural networks\"), (8, \"neural networks\"), (8, \"deep learning\"),\n",
    "(8, \"Big Data\"), (8, \"artificial intelligence\"),\n",
    "(9, \"Hadoop\"),(9, \"Java\"), (9, \"MapReduce\"), (9, \"Big Data\")\n",
    "]"
   ]
  },
  {
   "cell_type": "code",
   "execution_count": 51,
   "metadata": {},
   "outputs": [],
   "source": [
    "def data_scientists_who_like(target_interest):\n",
    "    return [user_id\n",
    "    for user_id, user_interest in interests\n",
    "    if user_interest == target_interest]"
   ]
  },
  {
   "cell_type": "code",
   "execution_count": 52,
   "metadata": {},
   "outputs": [
    {
     "data": {
      "text/plain": [
       "[0, 8, 9]"
      ]
     },
     "execution_count": 52,
     "metadata": {},
     "output_type": "execute_result"
    }
   ],
   "source": [
    "data_scientists_who_like('Big Data')"
   ]
  },
  {
   "cell_type": "code",
   "execution_count": 6,
   "metadata": {},
   "outputs": [],
   "source": [
    "import random\n",
    "import matplotlib.pyplot as plt"
   ]
  },
  {
   "cell_type": "code",
   "execution_count": 7,
   "metadata": {},
   "outputs": [
    {
     "name": "stdout",
     "output_type": "stream",
     "text": [
      "[66, 27, 64, 88, 13]\n"
     ]
    }
   ],
   "source": [
    "lotto = range(90)\n",
    "tirages = random.sample(lotto,5)\n",
    "print(tirages)"
   ]
  },
  {
   "cell_type": "code",
   "execution_count": 14,
   "metadata": {},
   "outputs": [
    {
     "data": {
      "text/plain": [
       "<BarContainer object of 5 artists>"
      ]
     },
     "execution_count": 14,
     "metadata": {},
     "output_type": "execute_result"
    },
    {
     "data": {
      "image/png": "[encoded data removed]",
      "text/plain": [
       "<Figure size 576x288 with 1 Axes>"
      ]
     },
     "metadata": {
      "needs_background": "light"
     },
     "output_type": "display_data"
    }
   ],
   "source": [
    "movies = [\"Annie Hall\", \"Ben-Hur\", \"Casablanca\", \"Gandhi\", \"West Side Story\"] \n",
    "num_oscars= [5, 11, 3, 8, 10]\n",
    "plt.figure(figsize=(8,4))\n",
    "xs = [i + 0.1 for i, _ in enumerate(movies)]\n",
    "plt.bar(xs,num_oscars)"
   ]
  },
  {
   "cell_type": "code",
   "execution_count": null,
   "metadata": {},
   "outputs": [],
   "source": []
  },
  {
   "cell_type": "code",
   "execution_count": 20,
   "metadata": {},
   "outputs": [],
   "source": [
    "def median(v):\n",
    "    \"\"\"trouver la valeur 'la plus au milieu' de v\"\"\"\n",
    "    n = len(v)\n",
    "    sorted_v = sorted(v)\n",
    "    midpoint = n // 2\n",
    "    if n % 2 == 1:\n",
    "    # si impair, retourner la valeur du milieu7\n",
    "        print(midpoint)\n",
    "        print(len(v))\n",
    "        return sorted_v[midpoint]\n",
    "    else:\n",
    "    # si pair, retourner la moyenne des valeurs du milieu\n",
    "        lo = midpoint - 1\n",
    "        hi = midpoint\n",
    "        return (sorted_v[lo] + sorted_v[hi]) / 2\n",
    "    median(num_friends) # 6.0"
   ]
  },
  {
   "cell_type": "code",
   "execution_count": 38,
   "metadata": {},
   "outputs": [],
   "source": [
    "from collections import Counter\n",
    "def mode(x):\n",
    "    \"\"\"retourne une liste, peut concerner plus d’un mode\"\"\"\n",
    "    counts = Counter(x)\n",
    "    max_count = max(counts.values())\n",
    "    return [pb ]\n",
    "    "
   ]
  },
  {
   "cell_type": "code",
   "execution_count": 39,
   "metadata": {},
   "outputs": [
    {
     "data": {
      "text/plain": [
       "3"
      ]
     },
     "execution_count": 39,
     "metadata": {},
     "output_type": "execute_result"
    }
   ],
   "source": [
    "f = [1,5,47,4,54,4,5,4]\n",
    "mode(f)"
   ]
  },
  {
   "cell_type": "code",
   "execution_count": null,
   "metadata": {},
   "outputs": [],
   "source": []
  },
  {
   "cell_type": "code",
   "execution_count": null,
   "metadata": {},
   "outputs": [],
   "source": []
  }
 ],
 "metadata": {
  "kernelspec": {
   "display_name": "Python 3",
   "language": "python",
   "name": "python3"
  },
  "language_info": {
   "codemirror_mode": {
    "name": "ipython",
    "version": 3
   },
   "file_extension": ".py",
   "mimetype": "text/x-python",
   "name": "python",
   "nbconvert_exporter": "python",
   "pygments_lexer": "ipython3",
   "version": "3.7.9"
  }
 },
 "nbformat": 4,
 "nbformat_minor": 4
}
