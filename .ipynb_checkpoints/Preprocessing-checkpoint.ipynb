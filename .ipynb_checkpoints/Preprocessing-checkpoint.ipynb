{
 "cells": [
  {
   "cell_type": "markdown",
   "metadata": {},
   "source": [
    "# Encodage \n",
    "Transformer les variables discrètes ,continues ou qualitatives en variable quantitative.\n",
    "### Label encoder"
   ]
  },
  {
   "cell_type": "code",
   "execution_count": 2,
   "metadata": {},
   "outputs": [],
   "source": [
    "import numpy as np\n",
    "from sklearn.preprocessing import LabelEncoder\n",
    "## Label encoder pour l'encodage de la valeur y cad des targets"
   ]
  },
  {
   "cell_type": "code",
   "execution_count": 3,
   "metadata": {},
   "outputs": [
    {
     "data": {
      "text/plain": [
       "array([1, 0, 2, 3, 1])"
      ]
     },
     "execution_count": 3,
     "metadata": {},
     "output_type": "execute_result"
    }
   ],
   "source": [
    "X = np.array(['chien',\n",
    "             'chat',\n",
    "             'mouton',\n",
    "             'oiseau',\n",
    "             'chien'])\n",
    "\n",
    "encodage = LabelEncoder()\n",
    "encodage.fit_transform(X)"
   ]
  },
  {
   "cell_type": "code",
   "execution_count": 4,
   "metadata": {},
   "outputs": [
    {
     "data": {
      "text/plain": [
       "array(['chat', 'chien', 'mouton', 'oiseau'], dtype='<U6')"
      ]
     },
     "execution_count": 4,
     "metadata": {},
     "output_type": "execute_result"
    }
   ],
   "source": [
    "## inverse transformer pour decoder\n",
    "encodage.inverse_transform(np.array([0,1,2,3]))"
   ]
  },
  {
   "cell_type": "markdown",
   "metadata": {},
   "source": [
    "### Ordinal Encoder"
   ]
  },
  {
   "cell_type": "code",
   "execution_count": 5,
   "metadata": {},
   "outputs": [],
   "source": [
    "from sklearn.preprocessing import OrdinalEncoder\n",
    "## Tout comme le label encoder mais permet à l'inverse permet l'encodage des variables X cad des features"
   ]
  },
  {
   "cell_type": "code",
   "execution_count": 6,
   "metadata": {},
   "outputs": [
    {
     "data": {
      "text/plain": [
       "array([[0., 1.],\n",
       "       [1., 2.],\n",
       "       [2., 3.],\n",
       "       [3., 0.]])"
      ]
     },
     "execution_count": 6,
     "metadata": {},
     "output_type": "execute_result"
    }
   ],
   "source": [
    "X = np.array([['chat','chien'],\n",
    "             ['chien','mouton'],\n",
    "             ['mouton','oiseau'],\n",
    "             ['oiseau','chat']])\n",
    "\n",
    "encodageO = OrdinalEncoder()\n",
    "encodageO.fit_transform(X)\n",
    "## Mais attention l'encodage ordinaire revient à dire que les transformations faites sont d'un point\n",
    "## de vue arithmetique > = ou < , ceci risque donc de penaliser le modèle à developper"
   ]
  },
  {
   "cell_type": "markdown",
   "metadata": {},
   "source": [
    "### Encodage OneHot\n",
    "#### pour résoudre le problème d'arithmétisation de l'ordinal encoder\n",
    "### LabelBinarizer"
   ]
  },
  {
   "cell_type": "code",
   "execution_count": 7,
   "metadata": {},
   "outputs": [],
   "source": [
    "from sklearn.preprocessing import LabelBinarizer"
   ]
  },
  {
   "cell_type": "code",
   "execution_count": 8,
   "metadata": {},
   "outputs": [
    {
     "data": {
      "text/plain": [
       "<5x4 sparse matrix of type '<class 'numpy.int64'>'\n",
       "\twith 5 stored elements in Compressed Sparse Row format>"
      ]
     },
     "execution_count": 8,
     "metadata": {},
     "output_type": "execute_result"
    }
   ],
   "source": [
    "X = np.array(['chien',\n",
    "             'chat',\n",
    "             'mouton',\n",
    "             'oiseau',\n",
    "             'chien'])\n",
    "encodageB = LabelBinarizer(sparse_output=True)\n",
    "encodageB.fit_transform(X)"
   ]
  },
  {
   "cell_type": "markdown",
   "metadata": {},
   "source": [
    "### One-Hot Encoder"
   ]
  },
  {
   "cell_type": "code",
   "execution_count": 9,
   "metadata": {},
   "outputs": [],
   "source": [
    "from sklearn.preprocessing import OneHotEncoder"
   ]
  },
  {
   "cell_type": "code",
   "execution_count": 10,
   "metadata": {},
   "outputs": [
    {
     "data": {
      "text/plain": [
       "<4x8 sparse matrix of type '<class 'numpy.float64'>'\n",
       "\twith 8 stored elements in Compressed Sparse Row format>"
      ]
     },
     "execution_count": 10,
     "metadata": {},
     "output_type": "execute_result"
    }
   ],
   "source": [
    "X = np.array([['chat','chien'],\n",
    "             ['chien','mouton'],\n",
    "             ['mouton','oiseau'],\n",
    "             ['oiseau','chat']])\n",
    "encodageO = OneHotEncoder()\n",
    "encodageO.fit_transform(X)"
   ]
  },
  {
   "cell_type": "markdown",
   "metadata": {},
   "source": [
    "#  Normalisation\n",
    "### On encode nos valeurs qualitatives , on normalise nos valeurs quantitatives\n",
    "### MinMaxScaller ,  StandardScaller\n",
    "#### la normation MinMax transforme chacque variable de telle sorte qu'elle soit comprise entre 0 et 1 et la standardisation,elle standardise chacque variable X : la moy est nulle et l'ecart type  = 1"
   ]
  },
  {
   "cell_type": "code",
   "execution_count": 11,
   "metadata": {},
   "outputs": [],
   "source": [
    "## Cependant ces deux normalisations sont très très inefficace lorsqu'il y a la présence d'ouliers\n",
    "import matplotlib.pyplot as plt\n",
    "from sklearn.datasets import load_iris\n",
    "from sklearn.preprocessing import MinMaxScaler,StandardScaler,RobustScaler"
   ]
  },
  {
   "cell_type": "code",
   "execution_count": 12,
   "metadata": {},
   "outputs": [
    {
     "data": {
      "image/png": "[encoded data removed]",
      "text/plain": [
       "<Figure size 432x288 with 1 Axes>"
      ]
     },
     "metadata": {
      "needs_background": "light"
     },
     "output_type": "display_data"
    }
   ],
   "source": [
    "\n",
    "iris = load_iris()\n",
    "x = iris.data\n",
    "y = iris.target\n",
    "outliers = np.full((10,4),100) + np.random.randn(10,4)\n",
    "x = np.vstack((x,outliers))\n",
    "sstest = StandardScaler().fit_transform(x)\n",
    "mmstest = MinMaxScaler().fit_transform(x)\n",
    "rstest = RobustScaler().fit_transform(x)\n",
    "plt.scatter(x[:,2],x[:,3],label='Reel Data')\n",
    "plt.scatter(mmstest[:,2],mmstest[:,3],label='MinMaxScaler')\n",
    "plt.scatter(sstest[:,2],sstest[:,3],label='StandardScaller')\n",
    "plt.scatter(rstest[:,2], rstest[:,3],label='RobustScaller')\n",
    "plt.legend()\n",
    "plt.show()"
   ]
  },
  {
   "cell_type": "markdown",
   "metadata": {},
   "source": [
    "## RobustScaller"
   ]
  },
  {
   "cell_type": "code",
   "execution_count": 13,
   "metadata": {},
   "outputs": [],
   "source": [
    "##  Pour remedier à l'innéficacité du MinMax et du StandardScaller à la présence des outliers "
   ]
  },
  {
   "cell_type": "code",
   "execution_count": 14,
   "metadata": {},
   "outputs": [
    {
     "data": {
      "text/plain": [
       "<matplotlib.legend.Legend at 0x7f976f7cfe90>"
      ]
     },
     "execution_count": 14,
     "metadata": {},
     "output_type": "execute_result"
    },
    {
     "data": {
      "image/png": "[encoded data removed]",
      "text/plain": [
       "<Figure size 432x288 with 1 Axes>"
      ]
     },
     "metadata": {
      "needs_background": "light"
     },
     "output_type": "display_data"
    }
   ],
   "source": [
    "outliers = np.full((10,4),100) + np.random.randn(10,4)\n",
    "x = np.vstack((x,outliers))\n",
    "rstest = RobustScaler().fit_transform(x)\n",
    "plt.scatter(x[:,2],x[:,3],label='Reel Data')\n",
    "plt.scatter(rstest[:,2], rstest[:,3],label='RobustScaller')\n",
    "plt.legend()"
   ]
  },
  {
   "cell_type": "markdown",
   "metadata": {},
   "source": [
    "## Autres transformers de Preprocessing\n",
    "### Polyfeatures : crée de nouvelles variables polynomiales à partir des variables existantes\n",
    "### Ne pas oublier la discréditation avec le Binarizer avec un seuil : pe seuil = 3, < 3 = 0,>3 = 1"
   ]
  },
  {
   "cell_type": "code",
   "execution_count": 15,
   "metadata": {},
   "outputs": [
    {
     "data": {
      "text/plain": [
       "[<matplotlib.lines.Line2D at 0x7f976f792810>]"
      ]
     },
     "execution_count": 15,
     "metadata": {},
     "output_type": "execute_result"
    },
    {
     "data": {
      "image/png": "[encoded data removed]",
      "text/plain": [
       "<Figure size 432x288 with 1 Axes>"
      ]
     },
     "metadata": {
      "needs_background": "light"
     },
     "output_type": "display_data"
    }
   ],
   "source": [
    "from sklearn.preprocessing import PolynomialFeatures\n",
    "from sklearn.linear_model import LinearRegression\n",
    "x = np.linspace(0,4,100).reshape((100,1))\n",
    "y = x**2 + 5*np.cos(x) + np.random.randn(100,1)\n",
    "x_poly = PolynomialFeatures(3).fit_transform(x)\n",
    "model = LinearRegression().fit(x_poly,y)\n",
    "model.score(x_poly,y)\n",
    "y_pred = model.predict(x_poly)\n",
    "plt.scatter(x,y)\n",
    "plt.plot(x,y_pred,c='r',lw=3)"
   ]
  },
  {
   "cell_type": "code",
   "execution_count": 16,
   "metadata": {},
   "outputs": [],
   "source": [
    "def pred(model,x):\n",
    "    r = np.array([x]).reshape(1,1)\n",
    "    r = PolynomialFeatures(3).fit_transform(r)\n",
    "    print(model.predict(r))"
   ]
  },
  {
   "cell_type": "markdown",
   "metadata": {},
   "source": [
    "# Pipeline"
   ]
  },
  {
   "cell_type": "code",
   "execution_count": 17,
   "metadata": {},
   "outputs": [
    {
     "data": {
      "text/plain": [
       "array([1, 0, 1, 1, 0, 2, 0, 0, 1, 0, 1, 0, 2, 0, 2, 1, 2, 1, 0, 1, 2, 0,\n",
       "       0, 0, 2, 0, 1, 2, 1, 2])"
      ]
     },
     "execution_count": 17,
     "metadata": {},
     "output_type": "execute_result"
    }
   ],
   "source": [
    "## Exemple de test sans pipeline\n",
    "from sklearn.model_selection import train_test_split\n",
    "from sklearn.preprocessing import StandardScaler\n",
    "from sklearn.linear_model import SGDClassifier\n",
    "# Data\n",
    "xp = iris.data\n",
    "yp = iris.target\n",
    "xtrain , xtest , ytrain , ytest = train_test_split(xp,yp,test_size=0.2)\n",
    "\n",
    "## Transformation\n",
    "standard = StandardScaler()\n",
    "xtransform = standard.fit_transform(xtrain)\n",
    "\n",
    "## Estimateur \n",
    "model = SGDClassifier(random_state=0)\n",
    "model.fit(xtransform,ytrain)\n",
    "model.score(xtransform,ytrain)\n",
    "\n",
    "## Test\n",
    "xtestt = standard.transform(xtest)\n",
    "model.predict(xtestt)"
   ]
  },
  {
   "cell_type": "code",
   "execution_count": 18,
   "metadata": {},
   "outputs": [
    {
     "data": {
      "text/plain": [
       "0.9666666666666667"
      ]
     },
     "execution_count": 18,
     "metadata": {},
     "output_type": "execute_result"
    }
   ],
   "source": [
    "## Avec pipeline\n",
    "from sklearn.pipeline import make_pipeline\n",
    "from sklearn.model_selection import GridSearchCV\n",
    "from sklearn.metrics import confusion_matrix\n",
    "pipeline = make_pipeline(StandardScaler(),SGDClassifier())\n",
    "pipeline.fit(xtrain,ytrain)\n",
    "pipeline.score(xtrain,ytrain)\n",
    "pipeline.predict(xtest)\n",
    "\n",
    "## ou avec GRidsearchCv\n",
    "pip = make_pipeline(PolynomialFeatures(),\n",
    "                    MinMaxScaler(),\n",
    "                   SGDClassifier(random_state=0))\n",
    "\n",
    "parm = {\n",
    "    'polynomialfeatures__degree':[2,3,4,5,6,7,8,9],\n",
    "    'sgdclassifier__penalty':['l1','l2']\n",
    "}\n",
    "grid = GridSearchCV(pip,parm,cv=4)\n",
    "grid.fit(xtrain,ytrain)\n",
    "grid.score(xtest,ytest)\n",
    "#confusion_matrix(ytest,grid.predict(xtest))"
   ]
  },
  {
   "cell_type": "code",
   "execution_count": 19,
   "metadata": {},
   "outputs": [
    {
     "data": {
      "text/plain": [
       "<matplotlib.legend.Legend at 0x7f976ea42490>"
      ]
     },
     "execution_count": 19,
     "metadata": {},
     "output_type": "execute_result"
    },
    {
     "data": {
      "image/png": "[encoded data removed]",
      "text/plain": [
       "<Figure size 432x288 with 1 Axes>"
      ]
     },
     "metadata": {
      "needs_background": "light"
     },
     "output_type": "display_data"
    }
   ],
   "source": [
    "## MAintenant voir si avec plus de données ça va aller\n",
    "from sklearn.model_selection import learning_curve\n",
    "\n",
    "N , trains , vals = learning_curve(pip,xtrain,ytrain,train_sizes=np.linspace(0.1,1.0,10),cv=5)\n",
    "plt.plot(N,trains.mean(axis=1),label='Trains selon le nombre de donnée')\n",
    "plt.plot(N,vals.mean(axis=1),label='Validation selon le nombre de donnée')\n",
    "plt.legend()"
   ]
  },
  {
   "cell_type": "markdown",
   "metadata": {},
   "source": [
    "### Exo de pipeline avec un dataset plus complexe"
   ]
  },
  {
   "cell_type": "code",
   "execution_count": 20,
   "metadata": {},
   "outputs": [],
   "source": [
    "## Pour un dataset héterogène\n",
    "## Trier les données en numerique et categoriales\n",
    "## Definir pour chacque type de variable une pipeline\n",
    "## Injecter ces pipelines dans la make_column_transformer qui retourne un transformer final qu'on peut entrainer\n",
    "## Appliquer le transformer dans notre pipeline final pour entrainer le modèle"
   ]
  },
  {
   "cell_type": "code",
   "execution_count": 21,
   "metadata": {},
   "outputs": [
    {
     "data": {
      "text/plain": [
       "0.9888268156424581"
      ]
     },
     "execution_count": 21,
     "metadata": {},
     "output_type": "execute_result"
    }
   ],
   "source": [
    "## Go\n",
    "from sklearn.pipeline import make_pipeline\n",
    "from sklearn.compose import make_column_transformer,make_column_selector\n",
    "from sklearn.impute import SimpleImputer\n",
    "from sklearn.model_selection import train_test_split\n",
    "from sklearn.neighbors import KNeighborsClassifier\n",
    "import pandas as pd\n",
    "\n",
    "## Dataset\n",
    "titanic = pd.read_csv('seaborn-data/titanic.csv')\n",
    "titanic.head()\n",
    "X = titanic.drop('survived',axis=1)\n",
    "y = titanic['survived']\n",
    "# Tri \n",
    "numt = ['age','pclass','fare']\n",
    "numerical_features = make_column_selector(dtype_include=np.number)\n",
    "categorial_features = make_column_selector(dtype_exclude=np.number)\n",
    "\n",
    "# pipeline pour chacque tri\n",
    "num_pipeline = make_pipeline(SimpleImputer(),StandardScaler())\n",
    "cat_pipeline = make_pipeline(SimpleImputer(strategy='most_frequent'),OneHotEncoder())\n",
    "\n",
    "# Transformation\n",
    "preprocessor = make_column_transformer((num_pipeline,numerical_features),\n",
    "                                      (cat_pipeline,categorial_features))\n",
    "\n",
    "\n",
    "# Application\n",
    "xtrain,xtest,ytrain,ytest = train_test_split(X,y,test_size=0.2)\n",
    "final = make_pipeline(preprocessor,KNeighborsClassifier())\n",
    "params = {'kneighborsclassifier__n_neighbors':np.arange(1,20),\n",
    "             'kneighborsclassifier__metric':['euclidean','manhattan']\n",
    "}\n",
    "\n",
    "grid = GridSearchCV(final,param_grid=params,cv=5)\n",
    "grid.fit(xtrain,ytrain)\n",
    "grid.score(xtest,ytest)"
   ]
  },
  {
   "cell_type": "markdown",
   "metadata": {},
   "source": [
    "###  Ne pas oublier les 3 grands transformeurs du module imputer"
   ]
  },
  {
   "cell_type": "code",
   "execution_count": 22,
   "metadata": {},
   "outputs": [],
   "source": [
    "from sklearn.impute import SimpleImputer,KNNImputer,MissingIndicator\n",
    "#Missingin... pour savoir si il y a la presence des nan ou pas "
   ]
  },
  {
   "cell_type": "code",
   "execution_count": 23,
   "metadata": {},
   "outputs": [
    {
     "data": {
      "text/plain": [
       "array([[4. , 2. ],\n",
       "       [5. , 9. ],\n",
       "       [8. , 7. ],\n",
       "       [6. , 7. ],\n",
       "       [5.2, 3. ],\n",
       "       [3. , 5.6]])"
      ]
     },
     "execution_count": 23,
     "metadata": {},
     "output_type": "execute_result"
    }
   ],
   "source": [
    "# Exemple\n",
    "X = np.array([[4,2],\n",
    "             [5,9],\n",
    "             [8,7],\n",
    "             [6,7],\n",
    "             [np.nan,3],\n",
    "             [3,np.nan]])\n",
    "imputer = SimpleImputer(missing_values = np.nan,strategy='mean')\n",
    "imputer.fit_transform(X)"
   ]
  },
  {
   "cell_type": "code",
   "execution_count": 24,
   "metadata": {},
   "outputs": [
    {
     "data": {
      "text/plain": [
       "array([[4. , 2. ],\n",
       "       [5. , 9. ],\n",
       "       [8. , 7. ],\n",
       "       [6. , 7. ],\n",
       "       [6. , 3. ],\n",
       "       [3. , 5.5]])"
      ]
     },
     "execution_count": 24,
     "metadata": {},
     "output_type": "execute_result"
    }
   ],
   "source": [
    "# Exemple\n",
    "X = np.array([[4,2],\n",
    "             [5,9],\n",
    "             [8,7],\n",
    "             [6,7],\n",
    "             [np.nan,3],\n",
    "             [3,np.nan]])\n",
    "imputer = KNNImputer(n_neighbors = 2)\n",
    "imputer.fit_transform(X)"
   ]
  },
  {
   "cell_type": "markdown",
   "metadata": {},
   "source": [
    "## Features Selection : les variables utiles pour le bon fonctionnement du moèle"
   ]
  },
  {
   "cell_type": "raw",
   "metadata": {},
   "source": [
    "#### VarianceTreshold calcule la variance des variables du dataset et elimine les variables\n",
    "## (celles qui sont definies comme < a un seuil precisé)"
   ]
  },
  {
   "cell_type": "code",
   "execution_count": 25,
   "metadata": {},
   "outputs": [],
   "source": [
    "from sklearn.feature_selection import VarianceThreshold"
   ]
  },
  {
   "cell_type": "code",
   "execution_count": 26,
   "metadata": {},
   "outputs": [
    {
     "data": {
      "text/plain": [
       "<matplotlib.legend.Legend at 0x7f97700dda10>"
      ]
     },
     "execution_count": 26,
     "metadata": {},
     "output_type": "execute_result"
    },
    {
     "data": {
      "image/png": "[encoded data removed]",
      "text/plain": [
       "<Figure size 432x288 with 1 Axes>"
      ]
     },
     "metadata": {
      "needs_background": "light"
     },
     "output_type": "display_data"
    }
   ],
   "source": [
    "iris = load_iris()\n",
    "x = iris.data\n",
    "y = iris.target\n",
    "plt.plot(iris.data)\n",
    "plt.legend(iris.feature_names)"
   ]
  },
  {
   "cell_type": "code",
   "execution_count": 27,
   "metadata": {},
   "outputs": [
    {
     "data": {
      "text/plain": [
       "array([ True, False,  True,  True])"
      ]
     },
     "execution_count": 27,
     "metadata": {},
     "output_type": "execute_result"
    }
   ],
   "source": [
    "x.var(axis=0)\n",
    "select = VarianceThreshold(threshold=0.2)\n",
    "select.fit_transform(x)\n",
    "select.get_support()"
   ]
  },
  {
   "cell_type": "code",
   "execution_count": 28,
   "metadata": {},
   "outputs": [
    {
     "data": {
      "text/plain": [
       "array(['sepal length (cm)', 'petal length (cm)', 'petal width (cm)'],\n",
       "      dtype='<U17')"
      ]
     },
     "execution_count": 28,
     "metadata": {},
     "output_type": "execute_result"
    }
   ],
   "source": [
    "np.array(iris.feature_names)[select.get_support()]"
   ]
  },
  {
   "cell_type": "raw",
   "metadata": {},
   "source": [
    "## SelectKbest selectionne les K variables X dont le score du test de dependance avec y est plus élevé\n",
    "## reourne 2 choses , les scores obtenues pour le test et les pvalues"
   ]
  },
  {
   "cell_type": "code",
   "execution_count": 29,
   "metadata": {},
   "outputs": [],
   "source": [
    "from sklearn.feature_selection import SelectKBest,chi2"
   ]
  },
  {
   "cell_type": "code",
   "execution_count": 31,
   "metadata": {},
   "outputs": [
    {
     "data": {
      "text/plain": [
       "array([False, False,  True,  True])"
      ]
     },
     "execution_count": 31,
     "metadata": {},
     "output_type": "execute_result"
    }
   ],
   "source": [
    "chi2(x,y) ## Test de dependance\n",
    "selecteur = SelectKBest(chi2,k=2)\n",
    "selecteur.fit_transform(x,y)\n",
    "selecteur.get_support()"
   ]
  },
  {
   "cell_type": "raw",
   "metadata": {},
   "source": [
    "## SelectFromModel entraine un estimateur puis selectionne les variables les plus importants pour cet estimateur\n",
    "## Compatible avec les estimateurs qui developpent une fonction paramétré"
   ]
  },
  {
   "cell_type": "code",
   "execution_count": 34,
   "metadata": {},
   "outputs": [],
   "source": [
    "from sklearn.feature_selection import SelectFromModel"
   ]
  },
  {
   "cell_type": "code",
   "execution_count": 40,
   "metadata": {},
   "outputs": [
    {
     "data": {
      "text/plain": [
       "array(['petal length (cm)', 'petal width (cm)'], dtype='<U17')"
      ]
     },
     "execution_count": 40,
     "metadata": {},
     "output_type": "execute_result"
    }
   ],
   "source": [
    "sel = SelectFromModel(SGDClassifier(random_state = 0),threshold='mean')\n",
    "sel.fit_transform(x,y)\n",
    "np.array(iris.feature_names)[sel.get_support()]"
   ]
  },
  {
   "cell_type": "raw",
   "metadata": {},
   "source": [
    "## RFE et RFECV fait la meme chose que le SelectFromModel mais recursivement"
   ]
  },
  {
   "cell_type": "code",
   "execution_count": 41,
   "metadata": {},
   "outputs": [],
   "source": [
    "from sklearn.feature_selection import RFE,RFECV"
   ]
  },
  {
   "cell_type": "code",
   "execution_count": 55,
   "metadata": {},
   "outputs": [
    {
     "data": {
      "text/plain": [
       "array([3, 1, 2, 1])"
      ]
     },
     "execution_count": 55,
     "metadata": {},
     "output_type": "execute_result"
    }
   ],
   "source": [
    "rf = RFECV(SGDClassifier(),step=1,min_features_to_select=2,cv=6)\n",
    "rf.fit_transform(x,y)\n",
    "rf.ranking_\n",
    "#rf.grid_scores_"
   ]
  },
  {
   "cell_type": "code",
   "execution_count": null,
   "metadata": {},
   "outputs": [],
   "source": []
  }
 ],
 "metadata": {
  "kernelspec": {
   "display_name": "Python 3",
   "language": "python",
   "name": "python3"
  },
  "language_info": {
   "codemirror_mode": {
    "name": "ipython",
    "version": 3
   },
   "file_extension": ".py",
   "mimetype": "text/x-python",
   "name": "python",
   "nbconvert_exporter": "python",
   "pygments_lexer": "ipython3",
   "version": "3.7.9"
  }
 },
 "nbformat": 4,
 "nbformat_minor": 4
}
